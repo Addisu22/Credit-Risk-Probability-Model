{
 "cells": [
  {
   "cell_type": "markdown",
   "id": "5923956c",
   "metadata": {},
   "source": [
    "# Task 4 - Proxy Target Variable Engineering "
   ]
  },
  {
   "cell_type": "code",
   "execution_count": 1,
   "id": "1d56f55a",
   "metadata": {},
   "outputs": [],
   "source": [
    "import numpy as np\n",
    "from datasets import Dataset, ClassLabel, Sequence\n",
    "import pandas as pd\n",
    "from transformers import TrainingArguments, Trainer\n",
    "from transformers import AutoTokenizer, AutoModelForTokenClassification\n",
    "import pandas as pd\n",
    "import os\n",
    "import sys\n",
    "import matplotlib.pyplot as plt\n",
    "import seaborn as sns\n",
    "sys.path.append(os.path.abspath(\"../src\"))\n",
    "import warnings\n",
    "warnings.filterwarnings('ignore')"
   ]
  },
  {
   "cell_type": "code",
   "execution_count": 2,
   "id": "7d151e6d",
   "metadata": {},
   "outputs": [
    {
     "name": "stdout",
     "output_type": "stream",
     "text": [
      "d:\\KAIM 5,6,7\\Week-5\\Credit-Risk-Probability-Model\n"
     ]
    }
   ],
   "source": [
    "os.chdir(\"..\")\n",
    "print(os.getcwd()) "
   ]
  },
  {
   "cell_type": "code",
   "execution_count": null,
   "id": "14de0f36",
   "metadata": {},
   "outputs": [],
   "source": [
    "from proxy_variable import calculate_rfm, cluster_rfm, assign_high_risk_label, label_high_risk_customers\n",
    "# 1. Load your original transaction data\n",
    "transactions = pd.read_csv(\"data.csv\")\n",
    "\n",
    "# 2. Process data to get model features (use the process_data function from Task 3)\n",
    "processed = process_data(transactions)\n",
    "\n",
    "# 3. Create proxy target variable\n",
    "final_df = label_high_risk_customers(transactions, processed)\n",
    "\n",
    "# 4. Save to CSV or use for model training\n",
    "final_df.to_csv(\"model_ready_data.csv\", index=False)\n",
    "\n",
    "# Show result\n",
    "print(final_df[['CustomerId', 'is_high_risk']].value_counts())"
   ]
  }
 ],
 "metadata": {
  "kernelspec": {
   "display_name": "Python 3",
   "language": "python",
   "name": "python3"
  },
  "language_info": {
   "codemirror_mode": {
    "name": "ipython",
    "version": 3
   },
   "file_extension": ".py",
   "mimetype": "text/x-python",
   "name": "python",
   "nbconvert_exporter": "python",
   "pygments_lexer": "ipython3",
   "version": "3.11.0"
  }
 },
 "nbformat": 4,
 "nbformat_minor": 5
}
