{
 "cells": [
  {
   "cell_type": "markdown",
   "id": "d6c5a096",
   "metadata": {},
   "source": [
    "# Task 3 - Feature Engineering"
   ]
  },
  {
   "cell_type": "code",
   "execution_count": 1,
   "id": "f7b95fe2",
   "metadata": {},
   "outputs": [],
   "source": [
    "import numpy as np\n",
    "from datasets import Dataset, ClassLabel, Sequence\n",
    "import pandas as pd\n",
    "from transformers import TrainingArguments, Trainer\n",
    "from transformers import AutoTokenizer, AutoModelForTokenClassification\n",
    "import pandas as pd\n",
    "import os\n",
    "import sys\n",
    "import matplotlib.pyplot as plt\n",
    "import seaborn as sns\n",
    "sys.path.append(os.path.abspath(\"../src\"))\n",
    "import warnings\n",
    "warnings.filterwarnings('ignore')"
   ]
  },
  {
   "cell_type": "code",
   "execution_count": 2,
   "id": "c9248521",
   "metadata": {},
   "outputs": [
    {
     "name": "stdout",
     "output_type": "stream",
     "text": [
      "d:\\KAIM 5,6,7\\Week-5\\Credit-Risk-Probability-Model\n"
     ]
    }
   ],
   "source": [
    "os.chdir(\"..\")\n",
    "print(os.getcwd()) "
   ]
  },
  {
   "cell_type": "code",
   "execution_count": 18,
   "id": "943f59e8",
   "metadata": {},
   "outputs": [],
   "source": [
    "from  train_model import *"
   ]
  },
  {
   "cell_type": "code",
   "execution_count": 19,
   "id": "c90b9052",
   "metadata": {},
   "outputs": [
    {
     "data": {
      "text/plain": [
       "(57473, 16)"
      ]
     },
     "execution_count": 19,
     "metadata": {},
     "output_type": "execute_result"
    }
   ],
   "source": [
    "# Load raw data\n",
    "df = pd.read_csv(\"Data/processed/cleaned_data.csv\")\n",
    "df.shape"
   ]
  },
  {
   "cell_type": "code",
   "execution_count": null,
   "id": "e8bbb5c1",
   "metadata": {},
   "outputs": [
    {
     "name": "stdout",
     "output_type": "stream",
     "text": [
      "\n",
      " Model: LogisticRegression\n",
      " Classification Report:\n",
      "              precision    recall  f1-score   support\n",
      "\n",
      "           0       1.00      1.00      1.00     11457\n",
      "           1       0.84      0.42      0.56        38\n",
      "\n",
      "    accuracy                           1.00     11495\n",
      "   macro avg       0.92      0.71      0.78     11495\n",
      "weighted avg       1.00      1.00      1.00     11495\n",
      "\n",
      "ROC-AUC Score: 0.9974\n",
      "\n",
      " Model: RandomForest\n",
      " Classification Report:\n",
      "              precision    recall  f1-score   support\n",
      "\n",
      "           0       1.00      1.00      1.00     11457\n",
      "           1       0.96      0.61      0.74        38\n",
      "\n",
      "    accuracy                           1.00     11495\n",
      "   macro avg       0.98      0.80      0.87     11495\n",
      "weighted avg       1.00      1.00      1.00     11495\n",
      "\n",
      "ROC-AUC Score: 0.9998\n",
      "\n",
      " Model: XGBoost\n",
      " Classification Report:\n",
      "              precision    recall  f1-score   support\n",
      "\n",
      "           0       1.00      1.00      1.00     11457\n",
      "           1       0.54      0.53      0.53        38\n",
      "\n",
      "    accuracy                           1.00     11495\n",
      "   macro avg       0.77      0.76      0.77     11495\n",
      "weighted avg       1.00      1.00      1.00     11495\n",
      "\n",
      "ROC-AUC Score: 0.9271\n"
     ]
    }
   ],
   "source": [
    "# # # Usage:\n",
    "train_and_evaluate_models(\"Data/processed/cleaned_data.csv\")"
   ]
  },
  {
   "cell_type": "code",
   "execution_count": null,
   "id": "bab16d73",
   "metadata": {},
   "outputs": [],
   "source": []
  }
 ],
 "metadata": {
  "kernelspec": {
   "display_name": "Python 3",
   "language": "python",
   "name": "python3"
  },
  "language_info": {
   "codemirror_mode": {
    "name": "ipython",
    "version": 3
   },
   "file_extension": ".py",
   "mimetype": "text/x-python",
   "name": "python",
   "nbconvert_exporter": "python",
   "pygments_lexer": "ipython3",
   "version": "3.11.0"
  }
 },
 "nbformat": 4,
 "nbformat_minor": 5
}
