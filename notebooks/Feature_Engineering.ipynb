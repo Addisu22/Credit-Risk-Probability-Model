{
 "cells": [
  {
   "cell_type": "markdown",
   "id": "d6c5a096",
   "metadata": {},
   "source": [
    "# Task 3 - Feature Engineering"
   ]
  },
  {
   "cell_type": "code",
   "execution_count": 2,
   "id": "f7b95fe2",
   "metadata": {},
   "outputs": [],
   "source": [
    "import numpy as np\n",
    "from datasets import Dataset, ClassLabel, Sequence\n",
    "from transformers import TrainingArguments, Trainer\n",
    "from transformers import AutoTokenizer, AutoModelForTokenClassification\n",
    "import pandas as pd\n",
    "from sklearn.decomposition import TruncatedSVD\n",
    "import os\n",
    "import sys\n",
    "import matplotlib.pyplot as plt\n",
    "import seaborn as sns\n",
    "sys.path.append(os.path.abspath(\"../src\"))\n",
    "import warnings\n",
    "warnings.filterwarnings('ignore')"
   ]
  },
  {
   "cell_type": "code",
   "execution_count": 3,
   "id": "c9248521",
   "metadata": {},
   "outputs": [
    {
     "name": "stdout",
     "output_type": "stream",
     "text": [
      "d:\\KAIM 5,6,7\\Week-5\\Credit-Risk-Probability-Model\n"
     ]
    }
   ],
   "source": [
    "os.chdir(\"..\")\n",
    "print(os.getcwd()) "
   ]
  },
  {
   "cell_type": "code",
   "execution_count": 4,
   "id": "943f59e8",
   "metadata": {},
   "outputs": [],
   "source": [
    "from  train_model import *"
   ]
  },
  {
   "cell_type": "code",
   "execution_count": 5,
   "id": "c90b9052",
   "metadata": {},
   "outputs": [
    {
     "name": "stdout",
     "output_type": "stream",
     "text": [
      " Cleaning and transforming raw data...\n",
      " Preprocessing complete.\n",
      "Transformed data shape: (95662, 11062)\n"
     ]
    }
   ],
   "source": [
    "import pandas as pd\n",
    "# from src.processing.data_pipeline import prepare_data\n",
    "\n",
    "df = pd.read_csv(\"Data/raw/data.csv\")\n",
    "df_clean, pipeline, final_features = prepare_data(df)\n",
    "\n",
    "X = df_clean[final_features]\n",
    "\n",
    "# Optional: transform for model input\n",
    "try:\n",
    "    X_transformed = pipeline.fit_transform(X)\n",
    "    print(\"Transformed data shape:\", X_transformed.shape)\n",
    "except Exception as e:\n",
    "    print(f\" Transformation failed: {e}\")"
   ]
  },
  {
   "cell_type": "code",
   "execution_count": 6,
   "id": "d4dbe621",
   "metadata": {},
   "outputs": [
    {
     "name": "stdout",
     "output_type": "stream",
     "text": [
      "Reduced shape: (95662, 20)\n"
     ]
    },
    {
     "data": {
      "text/plain": [
       "array([[ 2.02674976e+00, -1.18514959e-01,  6.39072719e-01, ...,\n",
       "         1.23013373e-02, -7.72346538e-02,  2.73766361e-02],\n",
       "       [ 2.60718123e+00, -1.69353557e-01,  7.69103213e-01, ...,\n",
       "        -3.59725759e-02, -4.55830112e-04,  8.63441683e-03],\n",
       "       [ 1.98301715e+00, -1.70486507e-01,  1.14221033e+00, ...,\n",
       "        -3.05402736e-01,  8.44440530e-01, -7.13063791e-02],\n",
       "       ...,\n",
       "       [ 2.56718256e+00, -4.91679543e-02, -3.33972538e-03, ...,\n",
       "        -3.85221133e-02, -1.61373021e-02, -6.27204335e-03],\n",
       "       [ 1.73388624e+00, -3.82743919e-03, -1.91696326e-01, ...,\n",
       "         1.31850397e-02, -1.88823953e-01, -2.23429797e-02],\n",
       "       [ 2.56096250e+00, -7.88926625e-02, -2.29785303e-01, ...,\n",
       "        -4.14038723e-02, -9.21471489e-03, -8.11915115e-03]],\n",
       "      shape=(95662, 20))"
      ]
     },
     "execution_count": 6,
     "metadata": {},
     "output_type": "execute_result"
    }
   ],
   "source": [
    "svd = TruncatedSVD(n_components=20)\n",
    "X_reduced = svd.fit_transform(X_transformed)\n",
    "print(\"Reduced shape:\", X_reduced.shape)\n",
    "X_reduced "
   ]
  },
  {
   "cell_type": "code",
   "execution_count": 7,
   "id": "e8bbb5c1",
   "metadata": {},
   "outputs": [],
   "source": [
    "# # # Usage:\n",
    "# train_and_evaluate_models(\"Data/processed/cleaned_data.csv\")"
   ]
  },
  {
   "cell_type": "code",
   "execution_count": null,
   "id": "bab16d73",
   "metadata": {},
   "outputs": [],
   "source": []
  }
 ],
 "metadata": {
  "kernelspec": {
   "display_name": "Python 3",
   "language": "python",
   "name": "python3"
  },
  "language_info": {
   "codemirror_mode": {
    "name": "ipython",
    "version": 3
   },
   "file_extension": ".py",
   "mimetype": "text/x-python",
   "name": "python",
   "nbconvert_exporter": "python",
   "pygments_lexer": "ipython3",
   "version": "3.11.0"
  }
 },
 "nbformat": 4,
 "nbformat_minor": 5
}
