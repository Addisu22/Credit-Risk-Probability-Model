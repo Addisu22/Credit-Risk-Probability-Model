{
 "cells": [
  {
   "cell_type": "markdown",
   "id": "d6c5a096",
   "metadata": {},
   "source": [
    "# Task 3 - Feature Engineering"
   ]
  },
  {
   "cell_type": "code",
   "execution_count": 1,
   "id": "f7b95fe2",
   "metadata": {},
   "outputs": [],
   "source": [
    "import numpy as np\n",
    "from datasets import Dataset, ClassLabel, Sequence\n",
    "from transformers import TrainingArguments, Trainer\n",
    "from transformers import AutoTokenizer, AutoModelForTokenClassification\n",
    "import pandas as pd\n",
    "from sklearn.decomposition import TruncatedSVD\n",
    "import os\n",
    "import sys\n",
    "import matplotlib.pyplot as plt\n",
    "import seaborn as sns\n",
    "sys.path.append(os.path.abspath(\"../src\"))\n",
    "import warnings\n",
    "warnings.filterwarnings('ignore')"
   ]
  },
  {
   "cell_type": "code",
   "execution_count": 2,
   "id": "c9248521",
   "metadata": {},
   "outputs": [
    {
     "name": "stdout",
     "output_type": "stream",
     "text": [
      "d:\\KAIM 5,6,7\\Week-5\\Credit-Risk-Probability-Model\n"
     ]
    }
   ],
   "source": [
    "os.chdir(\"..\")\n",
    "print(os.getcwd()) "
   ]
  },
  {
   "cell_type": "code",
   "execution_count": 3,
   "id": "943f59e8",
   "metadata": {},
   "outputs": [],
   "source": [
    "from  train_model import *"
   ]
  },
  {
   "cell_type": "code",
   "execution_count": 4,
   "id": "c90b9052",
   "metadata": {},
   "outputs": [
    {
     "name": "stdout",
     "output_type": "stream",
     "text": [
      " Cleaning and transforming raw data...\n",
      " Preprocessing complete.\n",
      "Transformed data shape: (95662, 4)\n"
     ]
    }
   ],
   "source": [
    "import pandas as pd\n",
    "# from src.processing.data_pipeline import prepare_data\n",
    "\n",
    "df = pd.read_csv(\"Data/raw/data.csv\")\n",
    "df_clean, pipeline, final_features = prepare_data(df)\n",
    "\n",
    "X = df_clean[final_features]\n",
    "\n",
    "# Optional: transform for model input\n",
    "try:\n",
    "    X_transformed = pipeline.fit_transform(X)\n",
    "    print(\"Transformed data shape:\", X_transformed.shape)\n",
    "except Exception as e:\n",
    "    print(f\" Transformation failed: {e}\")"
   ]
  },
  {
   "cell_type": "code",
   "execution_count": 6,
   "id": "d4dbe621",
   "metadata": {},
   "outputs": [],
   "source": [
    "# svd = TruncatedSVD(n_components=20)\n",
    "# X_reduced = svd.fit_transform(X_transformed)\n",
    "# print(\"Reduced shape:\", X_reduced.shape)\n",
    "# X_reduced "
   ]
  },
  {
   "cell_type": "code",
   "execution_count": 7,
   "id": "e8bbb5c1",
   "metadata": {},
   "outputs": [],
   "source": [
    "# # # Usage:\n",
    "# train_and_evaluate_models(\"Data/processed/cleaned_data.csv\")"
   ]
  },
  {
   "cell_type": "code",
   "execution_count": 7,
   "id": "bab16d73",
   "metadata": {},
   "outputs": [
    {
     "name": "stdout",
     "output_type": "stream",
     "text": [
      "\n",
      " Preprocessor Structure:\n",
      "\n",
      "ColumnTransformer(transformers=[('numer',\n",
      "                                 Pipeline(steps=[('imputer', SimpleImputer()),\n",
      "                                                 ('scaler', StandardScaler())]),\n",
      "                                 ['Amount', 'Value']),\n",
      "                                ('cat',\n",
      "                                 Pipeline(steps=[('imputer',\n",
      "                                                  SimpleImputer(strategy='most_frequent')),\n",
      "                                                 ('encoder',\n",
      "                                                  OneHotEncoder(handle_unknown='ignore'))]),\n",
      "                                 ['CurrencyCode', 'CountryCode'])])\n",
      "\n",
      " Transformed shape: (95662, 4)\n"
     ]
    }
   ],
   "source": [
    "numeric_features = ['Amount', 'Value']\n",
    "categorical_features = ['CurrencyCode', 'CountryCode']\n",
    "\n",
    "prep, final_features = build_preprocessing_pipeline(df)\n",
    "\n",
    "print(\"\\n Preprocessor Structure:\\n\")\n",
    "print(prep)\n",
    "\n",
    "# Transform\n",
    "\n",
    "X = df[final_features]\n",
    "X_transformed = prep.fit_transform(X)\n",
    "print(f\"\\n Transformed shape: {X_transformed.shape}\")"
   ]
  }
 ],
 "metadata": {
  "kernelspec": {
   "display_name": "Python 3",
   "language": "python",
   "name": "python3"
  },
  "language_info": {
   "codemirror_mode": {
    "name": "ipython",
    "version": 3
   },
   "file_extension": ".py",
   "mimetype": "text/x-python",
   "name": "python",
   "nbconvert_exporter": "python",
   "pygments_lexer": "ipython3",
   "version": "3.11.0"
  }
 },
 "nbformat": 4,
 "nbformat_minor": 5
}
