{
 "cells": [
  {
   "cell_type": "markdown",
   "id": "0b1e2f35",
   "metadata": {},
   "source": [
    "# Task 5 - Model Training and Tracking"
   ]
  },
  {
   "cell_type": "markdown",
   "id": "aaa2fc26",
   "metadata": {},
   "source": [
    "### Split the Data"
   ]
  },
  {
   "cell_type": "code",
   "execution_count": null,
   "id": "ae04ae15",
   "metadata": {},
   "outputs": [],
   "source": [
    "from sklearn.model_selection import train_test_split\n",
    "\n",
    "X = processed_df.drop(columns=['is_high_risk'])\n",
    "y = processed_df['is_high_risk']\n",
    "\n",
    "X_train, X_test, y_train, y_test = train_test_split(X, y, test_size=0.2, stratify=y, random_state=42)"
   ]
  },
  {
   "cell_type": "markdown",
   "id": "da490480",
   "metadata": {},
   "source": [
    "Choose and Train Models"
   ]
  },
  {
   "cell_type": "code",
   "execution_count": null,
   "id": "bcccfb52",
   "metadata": {},
   "outputs": [],
   "source": [
    "from sklearn.linear_model import LogisticRegression\n",
    "from sklearn.ensemble import RandomForestClassifier\n",
    "\n",
    "lr = LogisticRegression(max_iter=1000)\n",
    "rf = RandomForestClassifier(random_state=42)\n",
    "\n",
    "lr.fit(X_train, y_train)\n",
    "rf.fit(X_train, y_train)"
   ]
  },
  {
   "cell_type": "markdown",
   "id": "9e6acb5b",
   "metadata": {},
   "source": [
    "Hyperparameter Tuning (Random Search)"
   ]
  },
  {
   "cell_type": "code",
   "execution_count": null,
   "id": "dc7d4883",
   "metadata": {},
   "outputs": [],
   "source": [
    "from sklearn.model_selection import RandomizedSearchCV\n",
    "\n",
    "param_dist = {'n_estimators': [100, 200], 'max_depth': [None, 10, 20]}\n",
    "search = RandomizedSearchCV(rf, param_distributions=param_dist, n_iter=3, cv=3, scoring='f1', random_state=42)\n",
    "search.fit(X_train, y_train)\n",
    "best_model = search.best_estimator_"
   ]
  },
  {
   "cell_type": "markdown",
   "id": "0aab88ce",
   "metadata": {},
   "source": [
    "Model Evaluation"
   ]
  },
  {
   "cell_type": "code",
   "execution_count": null,
   "id": "1208abe6",
   "metadata": {},
   "outputs": [],
   "source": [
    "from sklearn.metrics import accuracy_score, precision_score, recall_score, f1_score, roc_auc_score\n",
    "\n",
    "def evaluate(model, X_test, y_test):\n",
    "    y_pred = model.predict(X_test)\n",
    "    y_prob = model.predict_proba(X_test)[:, 1]\n",
    "    \n",
    "    return {\n",
    "        'accuracy': accuracy_score(y_test, y_pred),\n",
    "        'precision': precision_score(y_test, y_pred),\n",
    "        'recall': recall_score(y_test, y_pred),\n",
    "        'f1': f1_score(y_test, y_pred),\n",
    "        'roc_auc': roc_auc_score(y_test, y_prob)\n",
    "    }\n",
    "\n",
    "results = evaluate(best_model, X_test, y_test)\n",
    "print(results)"
   ]
  },
  {
   "cell_type": "markdown",
   "id": "c228d32e",
   "metadata": {},
   "source": [
    "Track Model with MLflow"
   ]
  },
  {
   "cell_type": "code",
   "execution_count": null,
   "id": "fbaf3c2b",
   "metadata": {},
   "outputs": [],
   "source": [
    "import mlflow\n",
    "import mlflow.sklearn\n",
    "\n",
    "with mlflow.start_run():\n",
    "    mlflow.sklearn.log_model(best_model, artifact_path=\"credit_risk_model\")\n",
    "    for metric, value in results.items():\n",
    "        mlflow.log_metric(metric, value)"
   ]
  },
  {
   "cell_type": "markdown",
   "id": "703a63d2",
   "metadata": {},
   "source": [
    "Unit Testing"
   ]
  },
  {
   "cell_type": "code",
   "execution_count": null,
   "id": "7ef79d72",
   "metadata": {},
   "outputs": [],
   "source": [
    "# tests/test_data_processing.py\n",
    "import pandas as pd\n",
    "from src.feature_engineering import feature_engineering\n",
    "\n",
    "def test_feature_engineering_shape():\n",
    "    df = pd.DataFrame({'CustomerId': [1, 2], 'Amount': [100, 200], 'TransactionStartTime': ['2023-01-01', '2023-01-02']})\n",
    "    result = feature_engineering(df)\n",
    "    assert result.shape[0] == 2\n",
    "\n",
    "def test_feature_engineering_not_empty():\n",
    "    df = pd.DataFrame({'CustomerId': [1], 'Amount': [50], 'TransactionStartTime': ['2023-01-01']})\n",
    "    result = feature_engineering(df)\n",
    "    assert not result.empty"
   ]
  }
 ],
 "metadata": {
  "language_info": {
   "name": "python"
  }
 },
 "nbformat": 4,
 "nbformat_minor": 5
}
